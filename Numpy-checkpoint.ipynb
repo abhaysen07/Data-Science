{
 "cells": [
  {
   "cell_type": "markdown",
   "metadata": {},
   "source": [
    "# NumPy is a Python library used for working with arrays.\n",
    "\n",
    "It also has functions for working in domain of linear algebra, fourier transform, and matrices.\n",
    "\n",
    "NumPy was created in 2005 by Travis Oliphant. It is an open source project and you can use it freely.\n",
    "\n",
    "NumPy stands for Numerical Python."
   ]
  },
  {
   "cell_type": "markdown",
   "metadata": {},
   "source": [
    "# To install numpy\n",
    "\n",
    "pip install numpy"
   ]
  },
  {
   "cell_type": "code",
   "execution_count": 1,
   "metadata": {},
   "outputs": [
    {
     "name": "stdout",
     "output_type": "stream",
     "text": [
      "Requirement already satisfied: numpy in c:\\programdata\\anaconda3\\lib\\site-packages (1.19.2)\n",
      "Note: you may need to restart the kernel to use updated packages.\n"
     ]
    }
   ],
   "source": [
    "pip install numpy"
   ]
  },
  {
   "cell_type": "code",
   "execution_count": 2,
   "metadata": {},
   "outputs": [],
   "source": [
    "import numpy as np"
   ]
  },
  {
   "cell_type": "code",
   "execution_count": 3,
   "metadata": {},
   "outputs": [],
   "source": [
    "lst = [1,2,3,\"a\",10.5,'JKLFJJ']"
   ]
  },
  {
   "cell_type": "code",
   "execution_count": 4,
   "metadata": {},
   "outputs": [
    {
     "name": "stdout",
     "output_type": "stream",
     "text": [
      "1\n",
      "<U11\n",
      "<class 'numpy.ndarray'>\n"
     ]
    }
   ],
   "source": [
    "# Numpy Arrays\n",
    "\n",
    "a1 = np.array([1,2,3,'a',10.5,'JKLFJJ'])\n",
    "\n",
    "print(a1.ndim) # n - dimentional\n",
    "\n",
    "# <U11 - Unicode format\n",
    "print(a1.dtype)\n",
    "\n",
    "print(type(a1))"
   ]
  },
  {
   "cell_type": "markdown",
   "metadata": {},
   "source": [
    "# 0-D Arrays\n",
    "\n",
    "0-D arrays, or Scalars, are the elements in an array. Each value in an array is a 0-D array."
   ]
  },
  {
   "cell_type": "code",
   "execution_count": 6,
   "metadata": {},
   "outputs": [
    {
     "name": "stdout",
     "output_type": "stream",
     "text": [
      "42\n",
      "0\n"
     ]
    }
   ],
   "source": [
    "D = np.array(42)\n",
    "\n",
    "print(D)\n",
    "\n",
    "print(D.ndim) # 0-D Array"
   ]
  },
  {
   "cell_type": "markdown",
   "metadata": {},
   "source": [
    "# 1-D Arrays\n",
    "\n",
    "An array that has 0-D arrays as its elements is called uni-dimensional or 1-D array.\n",
    "\n",
    "These are the most common and basic arrays."
   ]
  },
  {
   "cell_type": "code",
   "execution_count": 7,
   "metadata": {},
   "outputs": [
    {
     "name": "stdout",
     "output_type": "stream",
     "text": [
      "[1 2 3 4 5]\n",
      "1\n"
     ]
    }
   ],
   "source": [
    "D = np.array([1, 2, 3, 4, 5])\n",
    "\n",
    "print(D)\n",
    "\n",
    "print(D.ndim) # 1 - D Array"
   ]
  },
  {
   "cell_type": "markdown",
   "metadata": {},
   "source": [
    "# 2-D Arrays\n",
    "An array that has 1-D arrays as its elements is called a 2-D array.\n",
    "\n",
    "These are often used to represent matrix or 2nd order tensors."
   ]
  },
  {
   "cell_type": "code",
   "execution_count": 8,
   "metadata": {},
   "outputs": [
    {
     "name": "stdout",
     "output_type": "stream",
     "text": [
      "[[1 2 3]\n",
      " [4 5 6]]\n",
      "2\n"
     ]
    }
   ],
   "source": [
    "D2 = np.array([[1, 2, 3], [4, 5, 6]])\n",
    "\n",
    "print(D2)\n",
    "print(D2.ndim)"
   ]
  },
  {
   "cell_type": "markdown",
   "metadata": {},
   "source": [
    "# 3-D arrays\n",
    "\n",
    "An array that has 2-D arrays (matrices) as its elements is called 3-D array.\n",
    "\n",
    "These are often used to represent a 3rd order tensor."
   ]
  },
  {
   "cell_type": "code",
   "execution_count": 9,
   "metadata": {},
   "outputs": [
    {
     "name": "stdout",
     "output_type": "stream",
     "text": [
      "[[[1 2 3]\n",
      "  [4 5 6]]\n",
      "\n",
      " [[1 2 3]\n",
      "  [4 5 6]]]\n",
      "3\n"
     ]
    }
   ],
   "source": [
    "D3 = np.array([[[1, 2, 3], [4, 5, 6]], [[1, 2, 3], [4, 5, 6]]])\n",
    "print(D3)\n",
    "print(D3.ndim)"
   ]
  },
  {
   "cell_type": "markdown",
   "metadata": {},
   "source": [
    "# Access Array Elements\n",
    "\n",
    "Array indexing is the same as accessing an array element.\n",
    "\n",
    "You can access an array element by referring to its index number.\n",
    "\n",
    "The indexes in NumPy arrays start with 0, meaning that the first element has index 0, and the second has index 1 etc."
   ]
  },
  {
   "cell_type": "code",
   "execution_count": 12,
   "metadata": {},
   "outputs": [
    {
     "name": "stdout",
     "output_type": "stream",
     "text": [
      "1 2 3 4\n"
     ]
    },
    {
     "data": {
      "text/plain": [
       "'\\n\\nif you put arr[4] this invoke an Error array out of Index which means arr[4] is not found in this array\\n                     ...DO IT YOURSELF...\\n\\n'"
      ]
     },
     "execution_count": 12,
     "metadata": {},
     "output_type": "execute_result"
    }
   ],
   "source": [
    "arr = np.array([1, 2, 3, 4])\n",
    "\n",
    "print(arr[0],arr[1],arr[2],arr[3]) # arr[0] = 1, arr[1] = 2, arr[2] = 3, arr[3] = 4.\n",
    "\"\"\"\n",
    "\n",
    "if you put arr[4] this invoke an Error array out of Index which means arr[4] is not found in this array\n",
    "                     ...DO IT YOURSELF...\n",
    "\n",
    "\"\"\"\n"
   ]
  },
  {
   "cell_type": "markdown",
   "metadata": {},
   "source": [
    "# Example\n",
    "\n",
    "Get third and fourth elements from the following array and add them."
   ]
  },
  {
   "cell_type": "code",
   "execution_count": 13,
   "metadata": {},
   "outputs": [
    {
     "name": "stdout",
     "output_type": "stream",
     "text": [
      "the sum of 3 and 4 element is : 7\n",
      "7\n"
     ]
    }
   ],
   "source": [
    "print(\"the sum of 3 and 4 element is\",arr[2] + arr[3],sep = \" : \")\n",
    "\"\"\"\n",
    "or\n",
    "\"\"\"\n",
    "fir = arr[2]\n",
    "sec = arr[3]\n",
    "sums = fir + sec\n",
    "print(sums)\n"
   ]
  },
  {
   "cell_type": "markdown",
   "metadata": {},
   "source": [
    "# Access 2-D Arrays\n",
    "\n",
    "To access elements from 2-D arrays we can use comma separated integers representing the dimension and the index of the element.\n",
    "\n",
    "Example\n",
    "\n",
    "Access the 2nd element on 1st dim:"
   ]
  },
  {
   "cell_type": "code",
   "execution_count": 14,
   "metadata": {},
   "outputs": [
    {
     "name": "stdout",
     "output_type": "stream",
     "text": [
      "2nd element on 1st dim:  2\n"
     ]
    }
   ],
   "source": [
    "arr = np.array([[1,2,3,4,5], [6,7,8,9,10]])\n",
    "\n",
    "\"\"\"\n",
    "\n",
    "\n",
    "It means arr[0] = [1,2,3,4,5], and arr[1] = [6,7,8,9,10]\n",
    "            index= 0 1 2 3 4        index =  0 1 2 3 4\n",
    "            \n",
    "           col = 1 2 3 4 5\n",
    "                 0 1 2 3 4\n",
    "    row 1 =    0 1 2 3 4 5\n",
    "    row 2 =    1 6 7 8 9 10\n",
    "\"\"\"\n",
    "print('2nd element on 1st dim: ', arr[0, 1])"
   ]
  },
  {
   "cell_type": "code",
   "execution_count": 15,
   "metadata": {},
   "outputs": [
    {
     "name": "stdout",
     "output_type": "stream",
     "text": [
      "from row 2 = 1 , from Column = 1 we get is : 10\n",
      "****************************************************************************************************\n",
      "from row 1 = 0 , from Column = 3 we get is : 3\n"
     ]
    }
   ],
   "source": [
    "# Example\n",
    "\n",
    "# Access the 5th element on 2nd dim:\n",
    "\n",
    "print(\"from row 2 = 1 , from Column = 1 we get is :\",arr[1,4])\n",
    "\n",
    "print(\"**\"*50)\n",
    "# Access the 3th element on 1 nd dim\n",
    "print(\"from row 1 = 0 , from Column = 3 we get is :\",arr[0,2])"
   ]
  },
  {
   "cell_type": "markdown",
   "metadata": {},
   "source": [
    "# Access 3-D Arrays\n",
    "\n",
    "To access elements from 3-D arrays we can use comma separated integers representing the dimensions and the index of the element."
   ]
  },
  {
   "cell_type": "code",
   "execution_count": 16,
   "metadata": {},
   "outputs": [
    {
     "name": "stdout",
     "output_type": "stream",
     "text": [
      "[[[ 1  2  3]\n",
      "  [ 4  5  6]]\n",
      "\n",
      " [[ 7  8  9]\n",
      "  [10 11 12]]]\n",
      "****************************************************************************************************\n",
      "(2, 2, 3)\n",
      "****************************************************************************************************\n",
      "3\n",
      "****************************************************************************************************\n",
      "6\n"
     ]
    }
   ],
   "source": [
    "arr = np.array([[[1, 2, 3], [4, 5, 6]], [[7, 8, 9], [10, 11, 12]]])\n",
    "print(arr)\n",
    "print(\"**\"*50)\n",
    "print(arr.shape) # 2 D , 2 Rows, 3 Columns\n",
    "print(\"**\"*50)\n",
    "print(arr.ndim) # 3 Dimenstion Array\n",
    "print(\"**\"*50)\n",
    "\n",
    "\n",
    "# inside np.array ([]) -- 1D array ,one bracket [ ]\n",
    "\n",
    "# inside np.array ([ [] ]) -- 2D array ,two bracket [ [ ] ]\n",
    "\n",
    "# inside np.array ([ [ [] ] ]) -- 3D array,three bracket [ [ [ ] ] ]\n",
    "\n",
    "print(arr[0, 1, 2]) # arr [0 D, 1 row, 2 column]"
   ]
  },
  {
   "cell_type": "code",
   "execution_count": 17,
   "metadata": {},
   "outputs": [
    {
     "data": {
      "text/plain": [
       "1"
      ]
     },
     "execution_count": 17,
     "metadata": {},
     "output_type": "execute_result"
    }
   ],
   "source": [
    "arr[-2,-2,-3]"
   ]
  },
  {
   "cell_type": "code",
   "execution_count": 18,
   "metadata": {},
   "outputs": [
    {
     "name": "stdout",
     "output_type": "stream",
     "text": [
      "1\n",
      "2\n",
      "3\n",
      "4\n",
      "5\n",
      "6\n",
      "7\n",
      "8\n",
      "9\n",
      "8\n",
      "11\n",
      "12\n"
     ]
    }
   ],
   "source": [
    "# find the 1\n",
    "print(arr[0,0,0]) # arr[-2,-2,-3]\n",
    "\n",
    "# find the 2\n",
    "print(arr[0,0,1]) # arr[-2,-2,-2]\n",
    "\n",
    "# find the 3\n",
    "print(arr[0,0,2]) # arr[-2,-2,-1]\n",
    "\n",
    "# find the 4\n",
    "print(arr[0,1,0]) # arr[-2,-1,-3]\n",
    "\n",
    "# find the 5\n",
    "print(arr[0,1,1]) # arr[-2,-1,-2]\n",
    "# find the 6\n",
    "print(arr[0,1,2]) # arr[-2,-1,-1]\n",
    "\n",
    "# find the 7\n",
    "print(arr[1,0,0]) # arr[-1,-2,-3]\n",
    "\n",
    "# find the 8\n",
    "print(arr[1,0,1]) # arr[-1,-2,-2]\n",
    "\n",
    "# find the 9\n",
    "print(arr[1,0,2]) # arr[-1,-2,-1]\n",
    "\n",
    "# find the 10\n",
    "print(arr[1,0,1]) # arr[-1,-1,-3])\n",
    "\n",
    "# find the 11\n",
    "print(arr[1,1,1]) # arr[-1,-1,-2]\n",
    "\n",
    "# find the 12\n",
    "print(arr[1,1,2]) # arr[-1,-1,-1]\n",
    "# try with negative index as well for better understanding on this."
   ]
  },
  {
   "cell_type": "markdown",
   "metadata": {},
   "source": [
    "# Numpy also provides many functions to create arrays:"
   ]
  },
  {
   "cell_type": "code",
   "execution_count": 19,
   "metadata": {},
   "outputs": [
    {
     "name": "stdout",
     "output_type": "stream",
     "text": [
      "[[0. 0.]\n",
      " [0. 0.]]\n"
     ]
    }
   ],
   "source": [
    "a = np.zeros((2,2))  # Create an array of all zeros\n",
    "\n",
    "print(a)"
   ]
  },
  {
   "cell_type": "code",
   "execution_count": 20,
   "metadata": {},
   "outputs": [
    {
     "name": "stdout",
     "output_type": "stream",
     "text": [
      "[[1. 1.]\n",
      " [1. 1.]]\n"
     ]
    }
   ],
   "source": [
    "b = np.ones((2,2))   # Create an array of all ones\n",
    "\n",
    "print(b)"
   ]
  },
  {
   "cell_type": "code",
   "execution_count": 21,
   "metadata": {},
   "outputs": [
    {
     "name": "stdout",
     "output_type": "stream",
     "text": [
      "[[7 7]\n",
      " [7 7]]\n",
      "**************************************************\n",
      "[[5 5 5 5]\n",
      " [5 5 5 5]\n",
      " [5 5 5 5]]\n"
     ]
    }
   ],
   "source": [
    "c = np.full((2,2), 7) # Create a constant array\n",
    "print(c)\n",
    "print(\"*\"*50)\n",
    "d = np.full((3,4),5)\n",
    "print(d)"
   ]
  },
  {
   "cell_type": "code",
   "execution_count": 22,
   "metadata": {},
   "outputs": [
    {
     "name": "stdout",
     "output_type": "stream",
     "text": [
      "[[1. 0.]\n",
      " [0. 1.]]\n"
     ]
    }
   ],
   "source": [
    "d = np.eye(2) # Create a 2x2 identity matrix\n",
    "\"\"\"\n",
    "identity matrix = [1 0\n",
    "                   0 1]\n",
    "\"\"\"\n",
    "print(d)"
   ]
  },
  {
   "cell_type": "code",
   "execution_count": 23,
   "metadata": {},
   "outputs": [
    {
     "name": "stdout",
     "output_type": "stream",
     "text": [
      "1\n",
      "<U32\n",
      "<class 'numpy.ndarray'>\n"
     ]
    }
   ],
   "source": [
    "# Numpy Arrays\n",
    "\n",
    "a1 = np.array([1,2,3,10.5,\"a\",'JKLFJJhsndkdn'])\n",
    "\n",
    "print(a1.ndim) # n - dimentional\n",
    "\n",
    "# <U11 - Unicode format\n",
    "print(a1.dtype)\n",
    "\n",
    "print(type(a1))"
   ]
  },
  {
   "cell_type": "code",
   "execution_count": 24,
   "metadata": {},
   "outputs": [
    {
     "name": "stdout",
     "output_type": "stream",
     "text": [
      "1\n",
      "int32\n",
      "<class 'numpy.ndarray'>\n",
      "3\n"
     ]
    }
   ],
   "source": [
    "a = np.array([1,2,3,4,5])\n",
    "print(a.ndim)\n",
    "print(a.dtype)\n",
    "print(type(a))\n",
    "print(a[2])"
   ]
  },
  {
   "cell_type": "code",
   "execution_count": 25,
   "metadata": {},
   "outputs": [
    {
     "name": "stdout",
     "output_type": "stream",
     "text": [
      "2\n",
      "********************************************************************************\n",
      "int32\n",
      "********************************************************************************\n",
      "<class 'numpy.ndarray'>\n",
      "********************************************************************************\n",
      "(5,)\n",
      "********************************************************************************\n",
      "[[2 3]\n",
      " [5 6]\n",
      " [8 9]]\n"
     ]
    }
   ],
   "source": [
    "# 2d Array\n",
    "\n",
    "a2 = np.array([[1,2,3],[4,5,6],[7,8,9]]) #matrix in maths\n",
    "print(a2.ndim)\n",
    "print('**'*40)\n",
    "print(a2.dtype)\n",
    "print('**'*40)\n",
    "print(type(a2))\n",
    "print('**'*40)\n",
    "print(a.shape) # The example above returns (3, 5), which means that the array has 3 dimensions, and each dimension has 5 elements.\n",
    "print('**'*40)\n",
    "\"\"\" find [2 3]\n",
    "         [4 5] \n",
    "\n",
    "\"\"\"\n",
    "# Solution\n",
    "\n",
    "# from a2[0] = [1, 2, 3], a2[1] = [4, 5, 6] , a2[2] = [7, 8, 9] so we use as a a2[0:,1:]\n",
    "\"\"\"                                                                            a2[row, col]\n",
    "From row = 0 == [1, 2, 3] and col = 1: is startng from [2 ,5, 8] and goes till [3, 6, 9] \n",
    "\n",
    "                  0 1 2\n",
    "                0 1 2 3\n",
    "                1 4 5 6\n",
    "                2 7 8 9\n",
    "\n",
    "\n",
    "\"\"\"\n",
    "print(a2[0:,1:])"
   ]
  },
  {
   "cell_type": "code",
   "execution_count": 26,
   "metadata": {},
   "outputs": [
    {
     "name": "stdout",
     "output_type": "stream",
     "text": [
      "3\n",
      "int32\n",
      "<class 'numpy.ndarray'>\n"
     ]
    },
    {
     "data": {
      "text/plain": [
       "array([[[1, 2, 3],\n",
       "        [4, 5, 6],\n",
       "        [7, 8, 9]]])"
      ]
     },
     "execution_count": 26,
     "metadata": {},
     "output_type": "execute_result"
    }
   ],
   "source": [
    "# 3D Array\n",
    "\n",
    "a = np.array([[[1,2,3],[4,5,6],[7,8,9]]])\n",
    "print(a.ndim)\n",
    "print(a.dtype)\n",
    "print(type(a))\n",
    "a"
   ]
  },
  {
   "cell_type": "code",
   "execution_count": 27,
   "metadata": {},
   "outputs": [
    {
     "name": "stdout",
     "output_type": "stream",
     "text": [
      "4\n",
      "object\n",
      "<class 'numpy.ndarray'>\n",
      "[[[[list([1, 2, 3, 4]) list([5, 6, 7, 8]) list([9, 10, 11, 12])\n",
      "    list([13, 14, 15])]]]]\n"
     ]
    }
   ],
   "source": [
    "a = np.array([[[[[1,2,3,4],[5,6,7,8],[9,10,11,12],[13,14,15]]]]],dtype=object)\n",
    "print(a.ndim)\n",
    "print(a.dtype)\n",
    "print(type(a))\n",
    "print(a)"
   ]
  },
  {
   "cell_type": "code",
   "execution_count": 28,
   "metadata": {},
   "outputs": [
    {
     "name": "stdout",
     "output_type": "stream",
     "text": [
      "[1 2 3 4 5]\n",
      "1\n",
      "using forward indexing: [1 2 3 4]\n",
      "using backward indexing: [1 2 3 4 5]\n"
     ]
    }
   ],
   "source": [
    "# Accessing values\n",
    "a1 = np.array([1,2,3,4,5])\n",
    "print(a1)\n",
    "print(a1.ndim)\n",
    "print(\"using forward indexing:\",a1[0:4])\n",
    "print(\"using backward indexing:\",a1[:])"
   ]
  },
  {
   "cell_type": "code",
   "execution_count": 29,
   "metadata": {},
   "outputs": [
    {
     "name": "stdout",
     "output_type": "stream",
     "text": [
      "1 @ 2 @ 3 @ 4 @ 5 @ "
     ]
    }
   ],
   "source": [
    "# Accessing array items using for loop\n",
    "for i in a1:\n",
    "    print(i,end=\" @ \")"
   ]
  },
  {
   "cell_type": "code",
   "execution_count": 30,
   "metadata": {},
   "outputs": [
    {
     "data": {
      "text/plain": [
       "array([[1, 2, 3],\n",
       "       [4, 5, 6],\n",
       "       [7, 8, 9]])"
      ]
     },
     "execution_count": 30,
     "metadata": {},
     "output_type": "execute_result"
    }
   ],
   "source": [
    "a2"
   ]
  },
  {
   "cell_type": "code",
   "execution_count": 31,
   "metadata": {
    "scrolled": true
   },
   "outputs": [
    {
     "name": "stdout",
     "output_type": "stream",
     "text": [
      "[[4 5]\n",
      " [7 8]]\n",
      "[[4 5]\n",
      " [7 8]]\n"
     ]
    }
   ],
   "source": [
    "print(a2[1:,:2])\n",
    "# array[row,col]\n",
    "print(a2[1:,:2])"
   ]
  },
  {
   "cell_type": "code",
   "execution_count": 32,
   "metadata": {},
   "outputs": [
    {
     "name": "stdout",
     "output_type": "stream",
     "text": [
      "[11 12 13]\n",
      "[4 5 6]\n"
     ]
    }
   ],
   "source": [
    "a = np.array([[1,2,3,4,5],[6,7,8,9,10],[11,12,13,14,15]])\n",
    "print(a[2][:3])\n",
    "\n",
    "b = np.array([[[1,2,3],[4,5,6]]])\n",
    "print(b[0,1])"
   ]
  },
  {
   "cell_type": "code",
   "execution_count": 33,
   "metadata": {},
   "outputs": [
    {
     "name": "stdout",
     "output_type": "stream",
     "text": [
      "[[0.95770349 0.33096007]\n",
      " [0.00460902 0.41622849]]\n"
     ]
    }
   ],
   "source": [
    "e = np.random.random((2,2)) # Create an array filled with random values\n",
    "print(e)\n"
   ]
  },
  {
   "cell_type": "code",
   "execution_count": null,
   "metadata": {},
   "outputs": [],
   "source": []
  }
 ],
 "metadata": {
  "kernelspec": {
   "display_name": "Python 3",
   "language": "python",
   "name": "python3"
  },
  "language_info": {
   "codemirror_mode": {
    "name": "ipython",
    "version": 3
   },
   "file_extension": ".py",
   "mimetype": "text/x-python",
   "name": "python",
   "nbconvert_exporter": "python",
   "pygments_lexer": "ipython3",
   "version": "3.8.5"
  }
 },
 "nbformat": 4,
 "nbformat_minor": 4
}
